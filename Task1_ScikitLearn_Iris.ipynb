# iris_decision_tree.py
# Requirements: scikit-learn, pandas, numpy
import numpy as np
import pandas as pd
from sklearn.datasets import load_iris
from sklearn.model_selection import train_test_split
from sklearn.tree import DecisionTreeClassifier
from sklearn.metrics import accuracy_score, precision_score, recall_score, classification_report

# Load data
iris = load_iris(as_frame=True)
X = iris.data
y = iris.target  # numeric labels already

# Quick check for missing values (Iris has none, but we include handling)
if X.isnull().any().any():
    X = X.fillna(X.median())

# Encode labels (already numeric; but show approach)
# from sklearn.preprocessing import LabelEncoder
# le = LabelEncoder(); y = le.fit_transform(y)

# Train/test split
X_train, X_test, y_train, y_test = train_test_split(X, y, test_size=0.2, random_state=42, stratify=y)

# Model
clf = DecisionTreeClassifier(max_depth=4, random_state=42)
clf.fit(X_train, y_train)

# Predict & evaluate
y_pred = clf.predict(X_test)
acc = accuracy_score(y_test, y_pred)
prec = precision_score(y_test, y_pred, average='macro', zero_division=0)
rec = recall_score(y_test, y_pred, average='macro', zero_division=0)

print("Accuracy:", acc)
print("Precision (macro):", prec)
print("Recall (macro):", rec)
print("\nClassification report:\n", classification_report(y_test, y_pred, target_names=iris.target_names))
